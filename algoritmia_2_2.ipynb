{
  "cells": [
    {
      "cell_type": "markdown",
      "source": [
        "# <center>Complejidad Algoritmica (Parte 2)</center>"
      ],
      "metadata": {
        "nteract": {
          "transient": {
            "deleting": false
          }
        }
      }
    },
    {
      "cell_type": "markdown",
      "source": [
        "Como se mencionó previamente, el marco de análisis de eficiencia se concentra en el **orden de crecimiento** del conteo de la **operación básica** de un algoritmo como el indicador principal de la eficiencia del algoritmo."
      ],
      "metadata": {
        "nteract": {
          "transient": {
            "deleting": false
          }
        }
      }
    },
    {
      "cell_type": "markdown",
      "source": [
        "## <center>Notaciones Utilizadas</center>\n",
        "\n",
        "* O grande $\\mathrm{O}$\n",
        "* Omega grande $\\Omega$\n",
        "* Theta grande $\\Theta$"
      ],
      "metadata": {
        "nteract": {
          "transient": {
            "deleting": false
          }
        }
      }
    },
    {
      "cell_type": "markdown",
      "source": [
        "### consideraciones\n",
        "\n",
        "Para las explicaciones por venir se tendrán las siguientes consideraciones:\n",
        "\n",
        "* $t(n)$ y $g(n)$: son cualquier función no negativa definida sobre los números naturales.\n",
        "* $t(n)$: es el tiempo de ejecución de un algoritmo.\n",
        "* $C(n)$: es el conteo de la operación básica.\n",
        "* $g(n)$: es una función simple para comparar el conteo.\n",
        "\n",
        "**Las notaciones asintóticas ignoran la diferencia entre constantes multiplicativas. Las funciones $f(n)=2n$ y $g(n)=n$ son idénticas en el análisis asintótico.**"
      ],
      "metadata": {
        "nteract": {
          "transient": {
            "deleting": false
          }
        }
      }
    },
    {
      "cell_type": "markdown",
      "source": [
        "## <center>Notación $\\mathrm{O}$</center>\n",
        "\n",
        "Una función $t(n)$ se dice que está en $\\mathrm{O}(g(n))$, denotado con $t(n)\\in\\mathrm{O}(g(n))$, si $t(n)$ está limitada por arriba por un múltiplo constante de $g(n)$ para cada $n$ grande, esto es, si existe alguna constante positiva $c$ y algún entero no negativo $n_{0}$ tal que\n",
        "\n",
        "$$t(n) \\leq cg(n) \\text{ para todo } n \\geq n_{0}$$"
      ],
      "metadata": {
        "nteract": {
          "transient": {
            "deleting": false
          }
        }
      }
    },
    {
      "cell_type": "markdown",
      "source": [
        "<center><img src = \"media/o_grande.png\"/></center>\n",
        "\n",
        "$$t(n)\\in\\mathrm{O}(g(n))$$"
      ],
      "metadata": {
        "nteract": {
          "transient": {
            "deleting": false
          }
        }
      }
    },
    {
      "cell_type": "markdown",
      "source": [
        "### Ejemplos\n",
        "\n",
        "$n \\in \\mathrm{O}(n^{2})$, $100n+5 \\in \\mathrm{O}(n^{2})$, $\\frac{1}{2}n(n-1) \\in \\mathrm{O}(n^{2})$\n",
        "\n",
        "$n^{3} \\not \\in \\mathrm{O}(n^{2})$, $0.00001n^{3} \\not \\in \\mathrm{O}(n^{2})$, $n^{4}+n+1 \\not \\in \\mathrm{O}(n^{2})$\n",
        "\n",
        "\n",
        "\n",
        "*tip: pon atención en el grado del exponente al que está elevado* $n$ *del lado izquierdo de la pertenencia* $\\in$ *, siempre tendrá que ser menor o igual al grado del exponente al que está elevado* $n$ *del lado derecho de la pertenencia*."
      ],
      "metadata": {
        "nteract": {
          "transient": {
            "deleting": false
          }
        }
      }
    },
    {
      "cell_type": "markdown",
      "source": [
        "## <center>Notación $\\Omega$</center>\n",
        "\n",
        "Una función $t(n)$ se dice que está en $\\Omega(g(n))$, denotado con $t(n)\\in\\Omega(g(n))$, si $t(n)$ está limitada por abajo por un múltiplo constante de $g(n)$ para cada $n$ grande, esto es, si existe alguna constante positiva $c$ y algún entero no negativo $n_{0}$ tal que\n",
        "\n",
        "$$t(n) \\geq cg(n) \\text{ para todo } n \\geq n_{0}$$"
      ],
      "metadata": {
        "nteract": {
          "transient": {
            "deleting": false
          }
        }
      }
    },
    {
      "cell_type": "markdown",
      "source": [
        "<center><img src = \"media/omega_grande.png\"/></center>\n",
        "\n",
        "$$t(n)\\in\\Omega(g(n))$$"
      ],
      "metadata": {
        "nteract": {
          "transient": {
            "deleting": false
          }
        }
      }
    },
    {
      "cell_type": "markdown",
      "source": [
        "### Ejemplos\n",
        "\n",
        "$n^{3} \\in \\Omega(n^{2})$, $\\frac{1}{2}n(n-1) \\in \\Omega(n^{2})$\n",
        "\n",
        "$100n+5 \\not \\in \\Omega(n^{2})$\n",
        "\n",
        "\n",
        "\n",
        "*tip: pon atención en el grado del exponente al que está elevado* $n$ *del lado izquierdo de la pertenencia* $\\in$ *, siempre tendrá que ser mayor o igual al grado del exponente al que está elevado* $n$ *del lado derecho de la pertenencia*."
      ],
      "metadata": {
        "nteract": {
          "transient": {
            "deleting": false
          }
        }
      }
    },
    {
      "cell_type": "markdown",
      "source": [
        "## <center>Notación $\\Theta$</center>\n",
        "\n",
        "Una función $t(n)$ se dice que está en $\\Theta(g(n))$, denotado con $t(n)\\in\\Theta(g(n))$, si $t(n)$ está limitada por abajo y por arriba por unos múltiplos constantes de $g(n)$ para toda $n$ grande, esto es, si existen algunas constantes positivas $c_{1}$ y $c_{2}$ y algún entero no negativo $n_{0}$ tal que\n",
        "\n",
        "$$c_{2}g(n) \\leq t(n) \\leq c_{1}g(n) \\text{ para todo } n \\geq n_{0}$$"
      ],
      "metadata": {
        "nteract": {
          "transient": {
            "deleting": false
          }
        }
      }
    },
    {
      "cell_type": "markdown",
      "source": [
        "<center><img src = \"media/theta_grande.png\"/></center>\n",
        "\n",
        "$$t(n)\\in\\Theta(g(n))$$"
      ],
      "metadata": {
        "nteract": {
          "transient": {
            "deleting": false
          }
        }
      }
    },
    {
      "cell_type": "markdown",
      "source": [
        "### Ejemplos\n",
        "$an^{2}+bn+c \\in \\Theta(n^{2}) \\text{ para } a > 0$\n",
        "\n",
        "$n^{2} + \\sin n \\in \\Theta(n^{2})$\n",
        "\n",
        "$n^{2} + \\log n \\in \\Theta(n^{2})$\n",
        "\n",
        "\n",
        "\n",
        "*tip: pon atención en el grado del exponente al que está elevado* $n$ *del lado izquierdo de la pertenencia* $\\in$ *, siempre tendrá que ser igual al grado del exponente al que está elevado* $n$ *del lado derecho de la pertenencia*."
      ],
      "metadata": {
        "nteract": {
          "transient": {
            "deleting": false
          }
        }
      }
    },
    {
      "cell_type": "markdown",
      "source": [
        "## <center>Propiedades en Notaciones Asintóticas</center>"
      ],
      "metadata": {
        "nteract": {
          "transient": {
            "deleting": false
          }
        }
      }
    },
    {
      "cell_type": "markdown",
      "source": [
        "### Sumas\n",
        "\n",
        "$\\mathrm{O}(f(n)) + \\mathrm{O}(g(n)) \\rightarrow \\mathrm{O}(\\max( f(n),g(n) ))$\n",
        "\n",
        "$\\Omega(f(n)) + \\Omega(g(n)) \\rightarrow \\Omega(\\max( f(n),g(n) ))$\n",
        "\n",
        "$\\Theta(f(n)) + \\Theta(g(n)) \\rightarrow \\Theta(\\max( f(n),g(n) ))$"
      ],
      "metadata": {
        "nteract": {
          "transient": {
            "deleting": false
          }
        }
      }
    },
    {
      "cell_type": "markdown",
      "source": [
        "### Multiplicaciones\n",
        "\n",
        "$\\mathrm{O}(c \\cdot f(n)) \\rightarrow \\mathrm{O}(f(n))$\n",
        "\n",
        "$\\Omega(c \\cdot f(n)) \\rightarrow \\Omega(f(n))$\n",
        "\n",
        "$\\Theta(c \\cdot f(n)) \\rightarrow \\Theta(f(n))$\n",
        "\n",
        "$\\mathrm{O}(f(n)) \\ast \\mathrm{O}(g(n)) \\rightarrow \\mathrm{O}(f(n) \\ast g(n))$\n",
        "\n",
        "$\\Omega(f(n)) \\ast \\Omega(g(n)) \\rightarrow \\Omega(f(n) \\ast g(n))$\n",
        "\n",
        "$\\Theta(f(n)) \\ast \\Theta(g(n)) \\rightarrow \\Theta(f(n) \\ast g(n))$"
      ],
      "metadata": {
        "nteract": {
          "transient": {
            "deleting": false
          }
        }
      }
    },
    {
      "cell_type": "markdown",
      "source": [
        "## <center>Clases Básicas de Eficiencia</center>\n",
        "\n",
        "Clase | Nombre | Comentarios \n",
        "--- | --- | ---\n",
        "1 | constante | Se pueden dar muy pocos ejemplos de algoritmos con tiempo de ejecución constante.\n",
        "$\\log n$ | logaritmico | Típicamente, el resultado de cortar el tamaño del problema por un factor constante en cada iteración del algoritmo.\n",
        "$n$ | lineal | Algoritmos que recorren una lista de tamaño n (búsqueda secuencial) pertenecen a esta clase.\n",
        "$n \\log n$ | linearitmico | En esta categoria caen muchos algoritmos tipo divide y vencerás incluyendo mergesort y quicksort en el caso medio.\n",
        "$n^{2}$ | cuadrático | Caracteriza la eficiencia de algoritmos con dos ciclos anidados. Algoritmos elementales de ordenamiento y ciertas operaciones en matrices de n x n son ejemplos comunes.\n",
        "$n^{3}$ | cúbico | Caracteriza la eficiencia de algoritmos con tres ciclos anidados. Algunos algoritmos de algebra lineal caen en ésta categoría.\n",
        "$2^{n}$ | exponencial | Típico para algoritmos que generan todos los subconjuntos de un conjunto de n elementos.\n",
        "$n!$ | factorial | Típico para algoritmos que generan todas las permutaciones de un conjunto de n elementos.\n"
      ],
      "metadata": {
        "nteract": {
          "transient": {
            "deleting": false
          }
        }
      }
    },
    {
      "cell_type": "markdown",
      "source": [
        "## <center>Relaciones de Dominio</center>\n",
        "\n",
        "$$n! >> 2^{n} >> n^{3} >> n^{2} >> n \\log n >> n >> \\log n >> 1$$"
      ],
      "metadata": {
        "nteract": {
          "transient": {
            "deleting": false
          }
        }
      }
    }
  ],
  "metadata": {
    "kernel_info": {
      "name": "python3"
    },
    "language_info": {
      "name": "python",
      "version": "3.7.3",
      "mimetype": "text/x-python",
      "codemirror_mode": {
        "name": "ipython",
        "version": 3
      },
      "pygments_lexer": "ipython3",
      "nbconvert_exporter": "python",
      "file_extension": ".py"
    },
    "kernelspec": {
      "argv": [
        "python",
        "-m",
        "ipykernel_launcher",
        "-f",
        "{connection_file}"
      ],
      "display_name": "Python 3",
      "language": "python",
      "name": "python3"
    },
    "nteract": {
      "version": "0.25.0"
    }
  },
  "nbformat": 4,
  "nbformat_minor": 0
}