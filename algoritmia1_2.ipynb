{
  "cells": [
    {
      "cell_type": "code",
      "source": [
        "%%html\n",
        "<center><iframe src=\"https://drive.google.com/file/d/1CkgO94O61PJPwd6FeIV05ZBz16MgvaII/preview\" width=\"320\" height=\"240\"></iframe></center>"
      ],
      "outputs": [
        {
          "output_type": "display_data",
          "data": {
            "text/plain": "<IPython.core.display.HTML object>",
            "text/html": "<center><iframe src=\"https://drive.google.com/file/d/1CkgO94O61PJPwd6FeIV05ZBz16MgvaII/preview\" width=\"320\" height=\"240\"></iframe></center>\n"
          },
          "metadata": {}
        }
      ],
      "execution_count": 3,
      "metadata": {
        "collapsed": true,
        "jupyter": {
          "source_hidden": false,
          "outputs_hidden": false
        },
        "nteract": {
          "transient": {
            "deleting": false
          }
        },
        "execution": {
          "iopub.status.busy": "2020-09-14T06:27:42.624Z",
          "iopub.execute_input": "2020-09-14T06:27:42.673Z",
          "iopub.status.idle": "2020-09-14T06:27:42.798Z",
          "shell.execute_reply": "2020-09-14T06:27:42.856Z"
        }
      }
    },
    {
      "cell_type": "markdown",
      "source": [
        "¿Qué distingue a un algoritmo que corre en una computadora de un algoritmo que tú realizas?"
      ],
      "metadata": {
        "nteract": {
          "transient": {
            "deleting": false
          }
        }
      }
    },
    {
      "cell_type": "markdown",
      "source": [
        "Tú puedes ser capaz de tolerar cuando un algoritmo es descrito de manera imprecisa, pero una computadora no."
      ],
      "metadata": {
        "nteract": {
          "transient": {
            "deleting": false
          }
        }
      }
    },
    {
      "cell_type": "markdown",
      "source": [
        "Consideraciones en el desarrollo de algoritmos\n",
        "\n",
        "* Entiende el problema\n",
        "    * Comienza con las generalidades\n",
        "    * Identifica causas potenciales\n",
        "    * Entra en detalles\n",
        "\n",
        "*Si se decide intentar resolver el problema porque se cree que se conoce la causa, podría resolverse el problema incorrecto.*"
      ],
      "metadata": {
        "nteract": {
          "transient": {
            "deleting": false
          }
        }
      }
    },
    {
      "cell_type": "markdown",
      "source": [
        "* Experimenta si es necesario\n",
        "    * Realiza varias pruebas\n",
        "    * Obtén datos de ellas\n",
        "    * Compara resultados"
      ],
      "metadata": {
        "nteract": {
          "transient": {
            "deleting": false
          }
        }
      }
    },
    {
      "cell_type": "markdown",
      "source": [
        "Encontrar el algoritmo correcto es como encontrar la solución a cualquier problema. \n",
        "\n",
        "En lugar de encontrar la solución perfecta, el algoritmo sólo tiene que trabajar suficientemente bien.\n",
        "\n",
        "Se debe balancear el costo de la solución contra el valor que añade."
      ],
      "metadata": {
        "nteract": {
          "transient": {
            "deleting": false
          }
        }
      }
    },
    {
      "cell_type": "markdown",
      "source": [
        "Existen tres propiedades deseables para un buen algoritmo. Los algoritmos deben ser:\n",
        "\n",
        "* Correctos\n",
        "* Eficientes\n",
        "* Fáciles de implementar\n",
        "\n",
        "Estos tres aspectos podrían no ser simultaneamente alcansables."
      ],
      "metadata": {
        "nteract": {
          "transient": {
            "deleting": false
          }
        }
      }
    },
    {
      "cell_type": "markdown",
      "source": [
        "## <center>Proceso de Diseño y Análisis de Algoritmos</center>\n",
        "<center><img src= \"https://raw.githubusercontent.com/sencionechauri/i9878/master/media/proceso_diseno.png \"></img></center>"
      ],
      "metadata": {
        "nteract": {
          "transient": {
            "deleting": false
          }
        }
      }
    },
    {
      "cell_type": "code",
      "source": [
        "%%html\n",
        "<center><iframe src=\"https://drive.google.com/file/d/10U3-GI4L1H7rB86jIAs9AQwisw7SGDQn/preview\" width=\"320\" height=\"240\"></iframe></center>"
      ],
      "outputs": [
        {
          "output_type": "display_data",
          "data": {
            "text/plain": "<IPython.core.display.HTML object>",
            "text/html": "<center><iframe src=\"https://drive.google.com/file/d/10U3-GI4L1H7rB86jIAs9AQwisw7SGDQn/preview\" width=\"320\" height=\"240\"></iframe></center>\n"
          },
          "metadata": {}
        }
      ],
      "execution_count": 5,
      "metadata": {
        "collapsed": true,
        "jupyter": {
          "source_hidden": false,
          "outputs_hidden": false
        },
        "nteract": {
          "transient": {
            "deleting": false
          }
        },
        "execution": {
          "iopub.status.busy": "2020-09-14T06:33:12.137Z",
          "iopub.execute_input": "2020-09-14T06:33:12.186Z",
          "iopub.status.idle": "2020-09-14T06:33:12.320Z",
          "shell.execute_reply": "2020-09-14T06:33:12.367Z"
        }
      }
    },
    {
      "cell_type": "markdown",
      "source": [
        "## <center>Formas para representar algoritmos</center>\n",
        "\n",
        "* Descripción verbal: Las acciones se expresan como verbos en infinitivo.\n",
        "* Diagrama de flujo: Son representaciones gráficas de un algoritmo.\n",
        "* Pseudocódigo: Es una mezcla entre lenguaje natural y la estructura de los lenguajes de programación."
      ],
      "metadata": {
        "nteract": {
          "transient": {
            "deleting": false
          }
        }
      }
    },
    {
      "cell_type": "markdown",
      "source": [
        "## <center>Diagramas de Flujo</center>"
      ],
      "metadata": {
        "nteract": {
          "transient": {
            "deleting": false
          }
        }
      }
    },
    {
      "cell_type": "markdown",
      "source": [
        "Son muy útiles al momento de escribir un programa y explicarlo a los demás. Su principal desventaja es que su tamaño crecen múy rapidamente.\n",
        "\n",
        "Los símbolos en un diagrama de flujo representan las distintas acciones de un programa."
      ],
      "metadata": {
        "nteract": {
          "transient": {
            "deleting": false
          }
        }
      }
    },
    {
      "cell_type": "markdown",
      "source": [
        "Símbolo | Propósito | Descripción\n",
        "--- | --- | ---\n",
        "![Línea](https://raw.githubusercontent.com/sencionechauri/i9878/master/media/flecha.png \"Línea de Flujo\") | Línea de Flujo | Se usa para indicar el flujo del programa al conectar símbolos.\n",
        "![Terminal](https://raw.githubusercontent.com/sencionechauri/i9878/master/media/inicio_fin.png \"Terminal\") | Terminal (inicio / fin) | Se usa para representar el inicio y fin de un diagrama de flujo.\n",
        "![Entrada Salida](https://raw.githubusercontent.com/sencionechauri/i9878/master/media/entrada_salida.png \"Entrada y Salida\") | Entrada / Salida | Se usa para operaciones de entrada y salida de datos.\n",
        "![Proceso](https://raw.githubusercontent.com/sencionechauri/i9878/master/media/proceso.png \"Procesamiento\") | Procesamiento | Se usa para operaciones aritméticas y manipulación de datos.\n",
        "![Decisión](https://raw.githubusercontent.com/sencionechauri/i9878/master/media/decision.png \"Decisión\") | Decisión | Se utiliza para representar una decisión en base a dos opciones, verdadero y falso.\n",
        "![Conector](https://raw.githubusercontent.com/sencionechauri/i9878/master/media/conector.png \"Conector\") | Conector dentro de página | Se utiliza para conectar dos líneas de flujo.\n",
        "![Conector fuera](https://raw.githubusercontent.com/sencionechauri/i9878/master/media/conector_fuera.png \"Conector fuera de página\") | Conector fuera de página | Se utiliza para conectar el flujo de programa a otra página.\n",
        "![Proceso predefinido](https://raw.githubusercontent.com/sencionechauri/i9878/master/media/proceso_predefinido.png \"Proceso Predefinido\") | Proceso predefinido | Se utiliza para representar un grupo de instrucciones que realizan una tarea."
      ],
      "metadata": {
        "nteract": {
          "transient": {
            "deleting": false
          }
        }
      }
    },
    {
      "cell_type": "code",
      "source": [
        "%%html\n",
        "<center><iframe src=\"https://drive.google.com/file/d/11jGjmLER-sUDwvk88amMQPYJ9TgxI8Ng/preview\" width=\"320\" height=\"240\" thumbnail=\"10\"></iframe></center>"
      ],
      "outputs": [
        {
          "output_type": "display_data",
          "data": {
            "text/plain": "<IPython.core.display.HTML object>",
            "text/html": "<center><iframe src=\"https://drive.google.com/file/d/11jGjmLER-sUDwvk88amMQPYJ9TgxI8Ng/preview\" width=\"320\" height=\"240\" thumbnail=\"10\"></iframe></center>\n"
          },
          "metadata": {}
        }
      ],
      "execution_count": 10,
      "metadata": {
        "collapsed": true,
        "jupyter": {
          "source_hidden": false,
          "outputs_hidden": false
        },
        "nteract": {
          "transient": {
            "deleting": false
          }
        },
        "execution": {
          "iopub.status.busy": "2020-09-14T06:41:49.836Z",
          "iopub.execute_input": "2020-09-14T06:41:49.886Z",
          "iopub.status.idle": "2020-09-14T06:41:49.995Z",
          "shell.execute_reply": "2020-09-14T06:41:50.038Z"
        }
      }
    },
    {
      "cell_type": "markdown",
      "source": [
        "## <center>Ejemplo de pseudocódigo</center>\n",
        "\n",
        "\n",
        "función rusa(m, n)<br>\n",
        "&nbsp;&nbsp;&nbsp;&nbsp;resultado ← 0<br>\n",
        "&nbsp;&nbsp;&nbsp;&nbsp;hacer<br>\n",
        "&nbsp;&nbsp;&nbsp;&nbsp;&nbsp;&nbsp;&nbsp;&nbsp;si m es impar entonces<br>\n",
        "&nbsp;&nbsp;&nbsp;&nbsp;&nbsp;&nbsp;&nbsp;&nbsp;&nbsp;&nbsp;&nbsp;&nbsp;resultado ← resultado + n<br>\n",
        "&nbsp;&nbsp;&nbsp;&nbsp;&nbsp;&nbsp;&nbsp;&nbsp;m ← entero(m / 2)<br>\n",
        "&nbsp;&nbsp;&nbsp;&nbsp;&nbsp;&nbsp;&nbsp;&nbsp;n ← n + n<br>\n",
        "&nbsp;&nbsp;&nbsp;&nbsp;mientras m >= 1<br>\n",
        "&nbsp;&nbsp;&nbsp;&nbsp;regresar resultado<br>"
      ],
      "metadata": {
        "nteract": {
          "transient": {
            "deleting": false
          }
        }
      }
    },
    {
      "cell_type": "markdown",
      "source": [
        "Intentemos realizar una ejecución de escritorio para el psudocódigo anterior. Si una línea de psudocódigo se encuentra con una tabulación hacia dentro con respecto de su línea anterior quiere decir que forma parte del bloque de esa estructura, por ejemplo la línea *resultado <- resultado + n* está dentro del **si** anterior o dicho de otra forma, es parte del **si**.\n",
        "\n",
        "Vamos a completar la siguiente tabla. <br>\n",
        "\n",
        "resultado | m | n\n",
        "--- | --- | ---\n",
        "\n",
        "Hagamos la ejecución de escritorio tomando como entrada m = 17, n = 5. \n",
        "\n",
        "comenzaremos escribiendo los valores iniciales en el primer renglón y a partir de ahí seguiremos con el ciclo principal.<br>\n",
        "\n",
        "resultado | m | n \n",
        "--- | --- | ---\n",
        "0 | 17 | 5  *valores iniciales*\n",
        "5 | 8 | 10\n",
        "5 | 4 | 20\n",
        "5 | 2 | 40\n",
        "5 | 1 | 80\n",
        "85 | 0 | 160 "
      ],
      "metadata": {
        "nteract": {
          "transient": {
            "deleting": false
          }
        }
      }
    },
    {
      "cell_type": "markdown",
      "source": [
        "A continuación se encuentra una implementación para el psudocódigo anterior, no es necesario que la entiendas, recuerda que en el curso no veremos codificación a fondo, lo que sí es importante es repasar las representaciones en pseudocódigo y las ejecuciones de escritorio. Realiza pruebas con distintas entradas."
      ],
      "metadata": {
        "nteract": {
          "transient": {
            "deleting": false
          }
        }
      }
    },
    {
      "cell_type": "code",
      "source": [
        "import time\n",
        "def rusa(m, n):\n",
        "  resultado = 0\n",
        "  print('resultado\\tm\\t\\tn')\n",
        "  print(f'{resultado}\\t\\t{m}\\t\\t{n}')\n",
        "  time.sleep(2)\n",
        "  while m >= 1:\n",
        "    if m % 2 != 0:\n",
        "      resultado += n\n",
        "    m //= 2\n",
        "    n += n\n",
        "    print(f'{resultado}', end='\\t\\t')\n",
        "    time.sleep(2)\n",
        "    print(f'{m}', end='\\t\\t')\n",
        "    time.sleep(2)\n",
        "    print(f'{n}')\n",
        "    time.sleep(2)\n",
        "  return resultado\n",
        "m = int(input('m: '))\n",
        "n = int(input('n: '))\n",
        "rusa(m, n);"
      ],
      "outputs": [
        {
          "output_type": "stream",
          "name": "stdout",
          "text": [
            "resultado\tm\t\tn\n",
            "0\t\t17\t\t5\n",
            "5\t\t8\t\t10\n",
            "5\t\t4\t\t20\n",
            "5\t\t2\t\t40\n",
            "5\t\t1\t\t80\n",
            "85\t\t0\t\t160\n"
          ]
        }
      ],
      "execution_count": 8,
      "metadata": {
        "collapsed": true,
        "jupyter": {
          "source_hidden": false,
          "outputs_hidden": false
        },
        "nteract": {
          "transient": {
            "deleting": false
          }
        },
        "execution": {
          "iopub.status.busy": "2020-09-14T06:37:24.662Z",
          "iopub.execute_input": "2020-09-14T06:37:24.729Z",
          "iopub.status.idle": "2020-09-14T06:38:06.360Z",
          "shell.execute_reply": "2020-09-14T06:38:06.420Z"
        }
      }
    },
    {
      "cell_type": "markdown",
      "source": [
        "### ¿Qué calcula la función rusa?"
      ],
      "metadata": {
        "nteract": {
          "transient": {
            "deleting": false
          }
        }
      }
    },
    {
      "cell_type": "markdown",
      "source": [
        "## <center>Referencias</center>\n",
        "* Cormen, T. (2013) \"Algorithms unlocked\". Ed. The MIT press, edición 1, Estados unidos de América.\n",
        "* Heinemann, G.; Pollice, G.; Selkow, S. (2009) \"Algorithms in a nutshell\". Ed. O' Reilly Media, edición 1, Estados Unidos de América.\n",
        "* Skiena, S. (2008) \"The algorithm design manual\". Ed. Springer-Verlag, edición 1, Inglaterra.\n",
        "* Levitin, A. (2012) \"Introduction to the design and analysis of algorithms\". Ed. Pearson education, edición 3, Estados unidos de América."
      ],
      "metadata": {
        "nteract": {
          "transient": {
            "deleting": false
          }
        }
      }
    }
  ],
  "metadata": {
    "kernel_info": {
      "name": "python3"
    },
    "language_info": {
      "name": "python",
      "version": "3.7.3",
      "mimetype": "text/x-python",
      "codemirror_mode": {
        "name": "ipython",
        "version": 3
      },
      "pygments_lexer": "ipython3",
      "nbconvert_exporter": "python",
      "file_extension": ".py"
    },
    "kernelspec": {
      "argv": [
        "python",
        "-m",
        "ipykernel_launcher",
        "-f",
        "{connection_file}"
      ],
      "display_name": "Python 3",
      "language": "python",
      "name": "python3"
    },
    "nteract": {
      "version": "0.25.0"
    }
  },
  "nbformat": 4,
  "nbformat_minor": 0
}