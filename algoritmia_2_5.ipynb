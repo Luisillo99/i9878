{
  "cells": [
    {
      "cell_type": "markdown",
      "source": [
        "# <center>Complejidad Algoritmica (Parte 5)</center>"
      ],
      "metadata": {
        "nteract": {
          "transient": {
            "deleting": false
          }
        }
      }
    },
    {
      "cell_type": "markdown",
      "source": [
        "## <center>Análisis Matemático de Algoritmos No Recursivos</center>\n",
        "\n",
        "* Decide sobre un parámetro (o parametros) que indiquen el tamaño de la entrada.\n",
        "* Identifica la operación básica del algoritmo. (Como regla, se localiza en el ciclo más interno.)\n",
        "* Revisa si el número de veces que se realiza la operación básica depende sólo del tamaño de la entrada.\n",
        "* Establece una suma que exprese el número de veces que la operación básica del algoritmo es ejecutada.\n",
        "* Usando fórmulas estandar y reglas de manipulación de sumas ecuentra una fórmula para el conteo de las operaciones o establece su orden de crecimiento."
      ],
      "metadata": {
        "nteract": {
          "transient": {
            "deleting": false
          }
        }
      }
    },
    {
      "cell_type": "markdown",
      "source": [
        "## <center>Algunas Reglas Básicas para Manipulación de Sumas</center>\n",
        "\n",
        "$$\\sum_{i=l}^{u}ca_{i} = c\\sum_{i=l}^{u}a_{i}$$\n",
        "$$\\sum_{i=l}^{u}(a_{i} \\pm b_{i}) = \\sum_{i=l}^{u}a_{i} \\pm \\sum_{i=l}^{u}b_{i}$$\n",
        "\n",
        "## <center>Algunas Fórmulas de Sumas</center>\n",
        "\n",
        "$$\\sum_{i=l}^{u}1=u-l+1$$\n",
        "$$\\sum_{i=0}^{n}i = \\sum_{i=1}^{n}i = 1 + 2 + \\cdots + n = n\\frac{(n+1)}{2} \\approx \\frac{1}{2}n^2 \\in \\Theta(n^2)$$\n",
        "$$\\sum_{i=1}^{n}i^2 = 1^{2} + 2^{2} + \\cdots + n^{2} = \\frac{n(n+1)(2n+1)}{6} \\approx \\frac{1}{3}n^{3} \\in \\Theta(n^3)$$"
      ],
      "metadata": {
        "nteract": {
          "transient": {
            "deleting": false
          }
        }
      }
    },
    {
      "cell_type": "markdown",
      "source": [
        "### <center>Ejemplo 7</center>\n",
        "```\n",
        "burbuja(A[0...n-1])\n",
        "//Ordena un arreglo de n elementos por el método de burbuja.\n",
        "//Entrada: Un arreglo A[0...n-1] de elementos ordenables.\n",
        "//Salida: El arreglo A[0...n-1] ordenado de forma no decreciente.\n",
        "\n",
        "desde i <- 0 hasta n - 2 \n",
        "    desde j <- 0 hasta n - 2\n",
        "        si A[j+1] < A[j]\n",
        "            intercambiar(A[j], A[j+1])\n",
        "```"
      ],
      "metadata": {
        "nteract": {
          "transient": {
            "deleting": false
          }
        }
      }
    },
    {
      "cell_type": "markdown",
      "source": [
        "### <center>Solución 7</center>\n",
        "\n",
        "**Tamaño de entrada**: $n$\n",
        "\n",
        "**Operación Básica**: ```A[j+1] < A[j]```\n",
        "\n",
        "Nuestro algoritmo tiene ciclos anidados y para poder expresarlos en notación sigma lo que haremos es escribirlos en el orden en que los encontramos. Cuando se tienen ciclos anidados nuestras expresiones se verán como sumas de sumas siendo la última en ser escrita la que tenga la expresión que representa el conteo de veces que suceda la operación básica en ese ciclo. Dicho lo anterior, nuestro algoritmo se representará como:\n",
        "\n",
        "$$c(n) = \\sum_{i=0}^{n-2} \\sum_{j=0}^{n-2} 1$$\n",
        "\n",
        "Para resolver la suma descrita anteriormente la solución debe comenzar desde la suma más interna hacia la externa, es decir, de derecha a izquierda. Revisando las fórmulas de sumas nos damos cuenta que la suma más interna es la suma de 1 por lo tanto la resolvemos de esa forma:\n",
        "\n",
        "$$\\sum_{i=l}^{u}1=u-l+1$$\n",
        "\n",
        "Reemplazando con los datos de nuestro algoritmo y resolviendo tenemos:\n",
        "\n",
        "$$u = n-2$$\n",
        "$$l = 0$$\n",
        "$$c(n) = u - l + 1 = n - 2 - 0 + 1 = n - 1$$\n",
        "\n",
        "por lo tanto ahora la solución para nuestro algoritmo se ve de la siguiente forma:\n",
        "\n",
        "$$c(n) = \\sum_{i=0}^{n-2} n - 1$$\n",
        "\n",
        "Ahora tenemos la suma de $n - 1$, si revisamos en nuestras fórmulas de sumas no existe una que cumpla con ese patrón, sin embargo lo que podemos hacer es intentar que se parezca a una de ellas y para conseguirlo usaremos la primer regla de las sumas que establece que podemos sacar de la suma cualquier constante. En nuestro caso consideraremos $n - 1$ como una constante (el valor de n no cambia y 1 siempre es 1) y lo sacaremos de la suma de forma tal que ahora tengamos:\n",
        "\n",
        "$$c(n) = (n - 1) \\sum_{i=0}^{n-2} 1$$\n",
        "\n",
        "Con ello ya podemos resolver con la suma de 1 que conocemos. Reemplazando y resolviendo tenemos:\n",
        "\n",
        "$$u = n-2$$\n",
        "$$l = 0$$\n",
        "$$c(n) = (n - 1) (n - 2 - 0 + 1) = (n-1)^2 = n^2 - 2n + 1 \\in \\Theta(n²)$$"
      ],
      "metadata": {
        "nteract": {
          "transient": {
            "deleting": false
          }
        }
      }
    },
    {
      "cell_type": "markdown",
      "source": [
        "Ahora realicemos una ejecución de escritorio para el algoritmo burbuja que acabamos de analizar. A continuación se muestra nuevamente el algoritmo.\n",
        "\n",
        "\n",
        "```\n",
        "burbuja(A[0...n-1])\n",
        "//Ordena un arreglo de n elementos por el método de burbuja.\n",
        "//Entrada: Un arreglo A[0...n-1] de elementos ordenables.\n",
        "//Salida: El arreglo A[0...n-1] ordenado de forma no decreciente.\n",
        "\n",
        "desde i <- 0 hasta n - 2 \n",
        "    desde j <- 0 hasta n - 2\n",
        "        si A[j+1] < A[j]\n",
        "            intercambiar(A[j], A[j+1])\n",
        "```\n",
        "\n",
        "\n",
        "Consideremos la siguiente entrada: \n",
        "\n",
        "$$A = [9, 3, 5, 7, 6]$$\n",
        "\n",
        "El arreglo $A$ tiene 5 elementos, por lo tanto $n = 5$. Los resultados de le ejecución de cada ciclo se muestran en la siguiente tabla:\n",
        "\n",
        "$i$ | $j$ | $A$\n",
        "--- | --- | ---\n",
        "0 | 0 | **3**, **9**, 5, 7, 6\n",
        "0 | 1 | 3, **5**, **9**, 7, 6\n",
        "0 | 2 | 3, 5, **7**, **9**, 6\n",
        "0 | 3 | 3, 5, 7, **6**, **9**\n",
        "1 | 0 | 3, 5, 7, 6, 9\n",
        "1 | 1 | 3, 5, 7, 6, 9\n",
        "1 | 2 | 3, 5, **6**, **7**, 9\n",
        "1 | 3 | 3, 5, 6, 7, 9\n",
        "2 | 0 | 3, 5, 6, 7, 9\n",
        "2 | 1 | 3, 5, 6, 7, 9\n",
        "2 | 2 | 3, 5, 6, 7, 9\n",
        "2 | 3 | 3, 5, 6, 7, 9\n",
        "3 | 0 | 3, 5, 6, 7, 9\n",
        "3 | 1 | 3, 5, 6, 7, 9\n",
        "3 | 2 | 3, 5, 6, 7, 9\n",
        "3 | 3 | 3, 5, 6, 7, 9\n",
        "\n",
        "Si contamos la cantidad de renglones o pasos necesarios por el algoritmo son 16. Ahora reemplacemos el valor de $n$ en la fórmula resultante de nuestro análisis:\n",
        "\n",
        "$$n^2 - 2n + 1$$\n",
        "\n",
        "Reemplazando y resolviendo con $n = 5$\n",
        "\n",
        "$$(5)^2 - 2(5) + 1 = 25 - 10 + 1 = 16$$\n",
        "\n",
        "El resultado es el mismo. El análisis de algoritmos nos sirve para saber cuántos pasos tardará un algoritmo en resolver un problema sin la necesidad de codificarlo o realizar la ejecución de escritorio correspondiente.\n",
        "\n",
        "A continuación se encuentra una celda con código en la cual puedes observar por medio de una gráfica como se comporta el algoritmo burbuja según aumenta o disminuye el valor de entrada. Presiona el botón *Run* y utiliza la barra de desplazamiento para modificar el tamaño de entrada.\n",
        "\n"
      ],
      "metadata": {
        "nteract": {
          "transient": {
            "deleting": false
          }
        }
      }
    },
    {
      "cell_type": "code",
      "source": [
        "import ipywidgets as widgets\n",
        "from ipywidgets import interact\n",
        "import numpy as np\n",
        "import matplotlib.pyplot as plt\n",
        "\n",
        "size = np.arange(1, 10, 1)\n",
        "\n",
        "def cn(n = 10):\n",
        "    size = np.arange(1, n, 1)\n",
        "    plt.xlabel('Tamaño de entrada')\n",
        "    plt.ylabel('pasos')\n",
        "    plt.title('Algoritmo Burbuja(A[0...n-1])')\n",
        "    burbuja = size**size-2*size+1\n",
        "    plt.plot(size, size**size, label='θ(n^2)')\n",
        "    plt.plot(size, burbuja, label='c(n) = n²-2n+1')\n",
        "    plt.legend()\n",
        "    print(f'Pasos necesitados: {n**n-(2*n)+1}')\n",
        "\n",
        "interact(cn, n = (4, 1000, 1))"
      ],
      "outputs": [],
      "execution_count": null,
      "metadata": {
        "collapsed": true,
        "jupyter": {
          "source_hidden": false,
          "outputs_hidden": false
        },
        "nteract": {
          "transient": {
            "deleting": false
          }
        },
        "execution": {
          "iopub.status.busy": "2020-09-29T20:53:11.062Z",
          "iopub.execute_input": "2020-09-29T20:53:11.084Z",
          "iopub.status.idle": "2020-09-29T20:53:11.762Z",
          "shell.execute_reply": "2020-09-29T20:53:11.814Z"
        },
        "tags": []
      }
    },
    {
      "cell_type": "markdown",
      "source": [
        "### <center>Ejemplo 8</center>\n",
        "```\n",
        "seleccion(A[0...n-1])\n",
        "//Ordena un arreglo de n elementos por el método de selección.\n",
        "//Entrada: Un arreglo A[0...n-1] de elementos ordenables.\n",
        "//Salida: El arreglo A[0...n-1] ordenado de forma no decreciente.\n",
        "\n",
        "\n",
        "desde i <- 0 hasta n - 2 \n",
        "    minj <- i\n",
        "    minx <- A[i]\n",
        "    desde j <- i + 1 hasta n - 1\n",
        "        si A[j] < minx\n",
        "            minj <- j\n",
        "            minx <- A[j]\n",
        "    A[minj] <- A[i]\n",
        "    A[i] <- minx\n",
        "```"
      ],
      "metadata": {
        "nteract": {
          "transient": {
            "deleting": false
          }
        }
      }
    },
    {
      "cell_type": "markdown",
      "source": [
        "### <center>Solución 8</center>\n",
        "\n",
        "**Tamaño de entrada**: $n$\n",
        "\n",
        "**Operación Básica**: ```A[j] < minx```\n",
        "\n",
        "Nuestro algoritmo tiene ciclos anidados y para poder expresarlos en notación sigma lo que haremos es escribirlos en el orden en que los encontramos. Cuando se tienen ciclos anidados nuestras expresiones se verán como sumas de sumas siendo la última en ser escrita la que tenga la expresión que representa el conteo de veces que suceda la operación básica en ese ciclo. Dicho lo anterior, nuestro algoritmo se representará como:\n",
        "\n",
        "$$c(n) = \\sum_{i=0}^{n-2} \\sum_{j=i+1}^{n-1} 1$$\n",
        "\n",
        "Para resolver la suma descrita anteriormente la solución debe comenzar desde la suma más interna hacia la externa, es decir, de derecha a izquierda. Revisando las fórmulas de sumas nos damos cuenta que la suma más interna es la suma de 1 por lo tanto la resolvemos de esa forma:\n",
        "\n",
        "$$\\sum_{i=l}^{u}1=u-l+1$$\n",
        "\n",
        "Reemplazando con los datos de nuestro algoritmo y resolviendo tenemos:\n",
        "\n",
        "$$u = n-1$$\n",
        "$$l = i+1$$\n",
        "$$c(n) = u - l + 1 = n - 1 - (i + 1) + 1 = n - 1 - i$$\n",
        "\n",
        "por lo tanto ahora la solución para nuestro algoritmo se ve de la siguiente forma:\n",
        "\n",
        "$$c(n) = \\sum_{i=0}^{n-2} n - 1 - i$$\n",
        "\n",
        "Ahora tenemos la suma de $n - 1 - i$, si revisamos en nuestras fórmulas de sumas no existe una que cumpla con ese patrón, sin embargo lo que podemos hacer es intentar que se parezca a una de ellas y para conseguirlo usaremos la segunda regla de las sumas que establece que podemos separar una suma de varios términos en distintas sumas. En nuestro caso consideraremos $n - 1$ como un primer término e $i$ como un segundo término de forma que podamos después resolver ambas sumas de manera independiente. Ahora tendremos:\n",
        "\n",
        "$$c(n) = \\sum_{i=0}^{n-2} n - 1 - \\sum_{i=0}^{n-2} i$$\n",
        "\n",
        "Ahora tenemos dos sumas, una con términos constantes ($n-1$) y otra con la variable $i$. Para ambas podemos utilizar alguna de las fórmulas de sumas y con ello ya es posible obtener el análisis del algoritmo. Para facilitarnos el análisis resolveremos cada suma por separado y después uniremos los resultados, cuando tengamos más práctica podremos realizarlo de manera simultánea.\n",
        "\n",
        "Comencemos con la suma de los términos constantes $n-1$\n",
        "\n",
        "$$\\sum_{i=0}^{n-2} n - 1$$\n",
        "$$(n-1)\\sum_{i=0}^{n-2} 1$$\n",
        "\n",
        "Reemplazando y resolviendo: \n",
        "\n",
        "$$u = n - 2$$\n",
        "$$l = 0$$\n",
        "$$(n-1)(n-2-0+1) = n^2 - 2n + 1$$\n",
        "\n",
        "Ahora resolveremos la segunda suma que tiene como valor acumulado $i$. Si revisamos nuestras fórmulas de sumas existe una para ese caso:\n",
        "\n",
        "$$\\sum_{i=0}^{n}i = \\sum_{i=1}^{n}i = 1 + 2 + \\cdots + n = n\\frac{(n+1)}{2} \\approx \\frac{1}{2}n^2 \\in \\Theta(n^2)$$\n",
        "\n",
        "Adaptando esa fórmula a nuestro caso particular tenemos que el límite superior es $n-2$ por lo tanto en cada parte que encontremos $n$ en la fórmula original, nosotros escribiremos $n-1$. Nuestra solución quedará como:\n",
        "\n",
        "$$\\sum_{i=0}^{n-2} i$$\n",
        "$$\\frac{(n-2)(n-2+1)}{2} = \\frac{n^{2}-3n+2}{2}$$\n",
        "\n",
        "Ahora uniendo el resultado de ambas sumas en uno solo tenemos la siguiente expresión:\n",
        "\n",
        "$$c(n) = (n^2 - 2n + 1) - (\\frac{n^{2}-3n+2}{2})$$\n",
        "\n",
        "Resolviendo tenemos:\n",
        "\n",
        "\n",
        "$$c(n) = \\frac{2(n^2 - 2n + 1) - (n^{2}-3n+2)}{2}$$\n",
        "$$c(n) = \\frac{2n^{2} - 4n + 2 - n^{2}+3n-2}{2}$$\n",
        "$$c(n) = \\frac{n^{2} - n}{2} \\in \\Theta(n^{2})$$"
      ],
      "metadata": {
        "nteract": {
          "transient": {
            "deleting": false
          }
        }
      }
    },
    {
      "cell_type": "markdown",
      "source": [
        "A continuación tienes la celda de código con la gráfica ineractiva para el comportamiento del algoritmo selección."
      ],
      "metadata": {
        "nteract": {
          "transient": {
            "deleting": false
          }
        }
      }
    },
    {
      "cell_type": "code",
      "source": [
        "import ipywidgets as widgets\n",
        "from ipywidgets import interact\n",
        "import numpy as np\n",
        "import matplotlib.pyplot as plt\n",
        "\n",
        "size = np.arange(1, 10, 1)\n",
        "\n",
        "def cn(n = 10):\n",
        "    size = np.arange(1, n, 1)\n",
        "    plt.xlabel('Tamaño de entrada')\n",
        "    plt.ylabel('pasos')\n",
        "    plt.title('Algoritmo Seleccion(A[0...n-1])')\n",
        "    seleccion = (size**size-size)/2\n",
        "    plt.plot(size, size, label='θ(n^2)')\n",
        "    plt.plot(size, seleccion, label='c(n) = (n²-n)/2')\n",
        "    plt.legend()\n",
        "    print(f'Pasos necesitados: {(n**n-n)/2}')\n",
        "\n",
        "interact(cn, n = (4, 1000, 1))"
      ],
      "outputs": [],
      "execution_count": null,
      "metadata": {
        "collapsed": true,
        "jupyter": {
          "source_hidden": false,
          "outputs_hidden": false
        },
        "nteract": {
          "transient": {
            "deleting": false
          }
        },
        "execution": {
          "iopub.status.busy": "2020-09-29T20:53:11.062Z",
          "iopub.execute_input": "2020-09-29T20:53:11.084Z",
          "iopub.status.idle": "2020-09-29T20:53:11.762Z",
          "shell.execute_reply": "2020-09-29T20:53:11.814Z"
        },
        "tags": []
      }
    },
    {
      "cell_type": "markdown",
      "source": [
        "### <center>Ejercicio</center>\n",
        "\n",
        "Completa el análisis del siguiente algoritmo\n",
        "\n",
        "```\n",
        "enigma(A[0...n-1, 0...n-1])\n",
        "//Entrada: Una matriz A[0...n-1, 0...n-1] de números reales.\n",
        "\n",
        "desde i <- 0 hasta n - 2\n",
        "    desde j <- i+1 hasta n - 1\n",
        "        si A[i, j] <> A[j, i] //Si A[i, j] es distinto de A[j, i]\n",
        "            regresar falso\n",
        "regresar verdadero\n",
        "```"
      ],
      "metadata": {
        "nteract": {
          "transient": {
            "deleting": false
          }
        }
      }
    },
    {
      "cell_type": "markdown",
      "source": [
        "### <center>Solución</center>\n",
        "\n",
        "**Tamaño de entrada**: $n$\n",
        "\n",
        "**Operación Básica**: ```A[i, j] <> A[j, i]```\n",
        "\n",
        "Desarrolla en tu cuaderno la solución para el conteo de operaciones. Supon que la entrada es tal que ambos ciclos terminan todas sus vueltas, por ello en este ejemplo particular debes reportar la solución perteneciente a $\\mathrm{O}$.\n",
        "\n",
        "Déjame saber como un comentario dentro de la plataforma del curso cual fue tu resultado."
      ],
      "metadata": {
        "nteract": {
          "transient": {
            "deleting": false
          }
        }
      }
    }
  ],
  "metadata": {
    "kernel_info": {
      "name": "python3"
    },
    "language_info": {
      "name": "python",
      "version": "3.7.3",
      "mimetype": "text/x-python",
      "codemirror_mode": {
        "name": "ipython",
        "version": 3
      },
      "pygments_lexer": "ipython3",
      "nbconvert_exporter": "python",
      "file_extension": ".py"
    },
    "kernelspec": {
      "argv": [
        "python",
        "-m",
        "ipykernel_launcher",
        "-f",
        "{connection_file}"
      ],
      "display_name": "Python 3",
      "language": "python",
      "name": "python3"
    },
    "nteract": {
      "version": "0.25.1"
    }
  },
  "nbformat": 4,
  "nbformat_minor": 0
}