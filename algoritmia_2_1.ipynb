{
  "cells": [
    {
      "cell_type": "markdown",
      "source": [
        "# <center>Complejidad Algoritmica</center>"
      ],
      "metadata": {
        "nteract": {
          "transient": {
            "deleting": false
          }
        }
      }
    },
    {
      "cell_type": "code",
      "source": [
        "%%html\n",
        "<center><iframe src=\"https://drive.google.com/file/d/1LLG6jYn0QucJ4aJ6ZXjsrxxt9T5ArTxD/preview\" width=\"320\" height=\"240\"></iframe></center>"
      ],
      "outputs": [],
      "execution_count": null,
      "metadata": {
        "collapsed": true,
        "jupyter": {
          "source_hidden": false,
          "outputs_hidden": false
        },
        "nteract": {
          "transient": {
            "deleting": false
          }
        },
        "execution": {
          "iopub.status.busy": "2020-09-21T08:29:57.477Z",
          "iopub.execute_input": "2020-09-21T08:29:57.538Z",
          "iopub.status.idle": "2020-09-21T08:29:57.704Z",
          "shell.execute_reply": "2020-09-21T08:29:57.757Z"
        }
      }
    },
    {
      "cell_type": "markdown",
      "source": [
        "Existen dos tipos de eficiencia:\n",
        "* Eficiencia de tiempo (**complejidad**)\n",
        "  * Evalúa la rapidez de un algoritmo.\n",
        "* Eficiencia de espacio (complejidad de espacio)\n",
        "  * Evalúa la cantidad de unidades de memoria utilizadas.\n",
        "  * Evalúa las operaciones de entrada/salida realizadas.\n",
        "  \n",
        "El orden de importancia que vamos a considerar es el planteado en los puntos anteriores, es decir, primero consideramos la eficiencia de tiempo o complejidad y cómo siguiente criterio la eficiencia de espacio."
      ],
      "metadata": {
        "nteract": {
          "transient": {
            "deleting": false
          }
        }
      }
    },
    {
      "cell_type": "markdown",
      "source": [
        "De acuerdo a lo planteado anteriormente debemos medir el tiempo de un algoritmo, esto nos lleva a plantearnos ¿Cómo medir el tiempo? &#x1F914; ¿En días?, ¿En horas?, ¿En minutos?, ¿En segundos?, ¿En milisegundos? Muchas opciones de donde escoger... sin embargo ninguna de ellas resulta adecuada &#x1F62F;"
      ],
      "metadata": {
        "nteract": {
          "transient": {
            "deleting": false
          }
        }
      }
    },
    {
      "cell_type": "markdown",
      "source": [
        "Hay inconvenientes al utilizar unidades estándar de medición para medir el tiempo de ejecución de un programa implementando un algoritmo.\n",
        "\n",
        "Planteemos un ejemplo: Imagina que desarrollamos un algoritmo en conjunto y hacemos un artículo científico para publicarlo al mundo. Ahora supongamos que el algoritmo tarda $n$ segundos en resolver un problema y aunque es bueno no resulta mejor que otros algoritmos para resolver dicho problema. Cinco años después hacemos una segunda versión del artículo con exáctamente el mismo código de nuestro algoritmo pero implementado en una máquina diez veces más poderosa y esta vez nuestros resultados se obtienen en unos cuantos milisegundos y publicamos la comparación con los algoritmos *rivales* y para ellos usamos los datos de nuestro primer artículo por lo que ahora nuestro algoritmo es mejor.\n",
        "\n",
        "¿Qué sucedió?<br>\n",
        "1. Hicimos trampa. <br>\n",
        "2. El algoritmo no mejoró. <br>\n",
        "3. Mejoró el equipo de cómputo. <br>"
      ],
      "metadata": {
        "nteract": {
          "transient": {
            "deleting": false
          }
        }
      }
    },
    {
      "cell_type": "markdown",
      "source": [
        "Debemos hacer las evaluaciones de los algoritmos independientes del equipo en el que se ejecutan. \n",
        "\n",
        "Un posible acercamiento:\n",
        "Contar el número de veces que cada una de las operaciones del algoritmo es ejecutada. Sin embargo este acercamiento es **difícil** e **innecesario**."
      ],
      "metadata": {
        "nteract": {
          "transient": {
            "deleting": false
          }
        }
      }
    },
    {
      "cell_type": "markdown",
      "source": [
        "**¿Qué hay que hacer?**\n",
        "\n",
        "* identificar la **operación básica** del algoritmo: la operación que más contribuye al tiempo total de ejecución.\n",
        "* Computar el número de veces que dicha operación es ejecutada."
      ],
      "metadata": {
        "nteract": {
          "transient": {
            "deleting": false
          }
        }
      }
    },
    {
      "cell_type": "markdown",
      "source": [
        "**¿Cómo identificar la operación básica de un algoritmo?**\n",
        "* Buscar el ciclo más interno del algoritmo.\n",
        "* Buscar la operación que más tiempo consume dentro de ese ciclo.\n",
        "\n",
        "Por ejemplo, la mayoría de los algoritmos de ordenamiento trabajan al comparar elementos entre ellos (llaves) de una lista que está siendo ordenada; para dichos algoritmos, la operación básica es la comparación de las llaves."
      ],
      "metadata": {
        "nteract": {
          "transient": {
            "deleting": false
          }
        }
      }
    },
    {
      "cell_type": "markdown",
      "source": [
        "**Ejemplo**\n",
        "\n",
        "```\n",
        "desde i <- 0 hasta i = 20 hacer\n",
        "  desde j <- 0 hasta j = 10 hacer\n",
        "    mostrar i*j + 3\n",
        "```\n",
        "En el ejemplo el ciclo para $j$ es el ciclo más interno y dentro de ese ciclo la operación que más tiempo consume es la multiplicación $i*j$ por lo tanto esa es la operación básica ."
      ],
      "metadata": {
        "nteract": {
          "transient": {
            "deleting": false
          }
        }
      }
    },
    {
      "cell_type": "markdown",
      "source": [
        "El marco establecido para el análisis de la complejidad de un algoritmo sugiere que se mida contando el número de veces que la operación básica del algoritmo se ejecuta en entradas de tamaño $n$."
      ],
      "metadata": {
        "nteract": {
          "transient": {
            "deleting": false
          }
        }
      }
    },
    {
      "cell_type": "markdown",
      "source": [
        "**Medir el tamaño de una entrada**<br>\n",
        "¿Porqué medir el tamaño de entrada de un algoritmo? Casi todos los algoritmos tardan más en entradas mayores.\n",
        "\n",
        "* Ordenar arreglos\n",
        "* Multiplicar matrices\n",
        "* Etcétera<br>\n",
        "\n",
        "Resulta lógico investigar la eficiencia de un algoritmo como función de un parámetro $n$ que indique el tamaño de su entrada.\n",
        "\n",
        "En la mayoría de los casos, seleccionar dicho parámetro es muy directo. \n",
        "\n",
        "* Tamaño de una lista\n",
        "* Orden o coeficientes de un polinomio"
      ],
      "metadata": {
        "nteract": {
          "transient": {
            "deleting": false
          }
        }
      }
    },
    {
      "cell_type": "markdown",
      "source": [
        "## <center>Ordenes de Crecimiento</center>"
      ],
      "metadata": {
        "nteract": {
          "transient": {
            "deleting": false
          }
        }
      }
    },
    {
      "cell_type": "markdown",
      "source": [
        "El marco de análisis de eficiencia se concentra en el orden de crecimiento del conteo de operaciones básicas.\n",
        "Una diferencia en tiempos de ejecución para entradas pequeñas no es lo que distingue algoritmos eficientes de ineficientes. Para valores grandes de $n$, el orden de crecimiento de la función es lo que importa.\n",
        "\n",
        "En esencia el orden de crecimiento refleja cómo aumenta la cantidad de operaciones realizadas según el tamaño de la entrada."
      ],
      "metadata": {
        "nteract": {
          "transient": {
            "deleting": false
          }
        }
      }
    },
    {
      "cell_type": "markdown",
      "source": [
        "A continuación se muestra una tabla con valores de varias funciones importantes para el análisis de algoritmos (n representa el tamaño de entrada).\n",
        "\n",
        "**$n$** | **$log_{2}n$** | **$n$** | **$nlog_{2}n$** | **$n^{2}$** | **$n^{3}$** | &nbsp; &nbsp; &nbsp; &nbsp; &nbsp; &nbsp;**$2^{n}$**&nbsp; &nbsp; &nbsp; &nbsp; &nbsp; &nbsp; | &nbsp; &nbsp; &nbsp; &nbsp; &nbsp; &nbsp; **$n!$** &nbsp; &nbsp; &nbsp; &nbsp; &nbsp; &nbsp;\n",
        "--- | --- | --- | --- | --- | --- | --- | ---\n",
        "10 | 3.3 | $10^{1}$ | $3.3*10^{1}$ | $10^{2}$ | $10^{3}$ | $10^{3}$ | $3.6*10^{6}$\n",
        "$10^{2}$ | 6.6 | $10^{2}$ | $6.6*10^{2}$ | $10^{4}$ | $10^{6}$ | $1.3*10^{30}$ | $9.3*10^{157}$\n",
        "$10^{3}$ | 10 | $10^{3}$ | $1.0*10^{4}$ | $10^{6}$ | $10^{9}$ | no viable | no viable\n",
        "$10^{4}$ | 13 | $10^{4}$ | $1.3*10^{5}$ | $10^{8}$ | $10^{12}$ | no viable | no viable\n",
        "$10^{5}$ | 17 | $10^{5}$ | $1.7*10^{6}$ | $10^{10}$ | $10^{15}$ | no viable | no viable\n",
        "$10^{6}$ | 20 | $10^{6}$ | $2.0*10^{7}$ | $10^{12}$ | $10^{18}$ | no viable | no viable\n"
      ],
      "metadata": {
        "nteract": {
          "transient": {
            "deleting": false
          }
        }
      }
    },
    {
      "cell_type": "markdown",
      "source": [
        "## <center>Eficiencia: Peor Caso, Mejor Caso y Caso Medio</center>\n",
        "\n",
        "Muchas veces nos encontramos con la interrogante sobre qué sucedería con nuestro algoritmo cuando se le proporciona la entrada más difícil posible o la más fácil o bien el caso promedio.\n",
        "\n",
        "Para entender las nociones de complejidad (eficiencia) del mejor, peor y caso medio, piensa en **correr un algoritmo sobre todas las posibles instancias de datos** que se le pueden ingresar.\n",
        "\n",
        "Para el problema de ordenamiento, el conjunto de posibles instancias de entrada consiste de todos los posibles acomodos de $n$ llaves, sobre todos los posibles valores de $n$."
      ],
      "metadata": {
        "nteract": {
          "transient": {
            "deleting": false
          }
        }
      }
    },
    {
      "cell_type": "markdown",
      "source": [
        "## <center>Introducción Informal</center>\n",
        "\n",
        "* La complejidad del **peor caso** del algoritmo es la función definida por el máximo número de pasos tomados en cualquier instancia de tamaño $n$.\n",
        "\n",
        "* La complejidad del **mejor caso** del algoritmo es la función definida por el mínimo número de pasos tomados en cualquier instancia de tamaño $n$.\n",
        "\n",
        "* La complejidad de **caso medio** del algoritmo es la función definida por el número promedio de pasos sobre todas las instancias de tamaño $n$."
      ],
      "metadata": {
        "nteract": {
          "transient": {
            "deleting": false
          }
        }
      }
    },
    {
      "cell_type": "markdown",
      "source": [
        "## <center>Gráfica de Ejemplo</center>\n",
        "\n",
        "<center><img src=\"media/casos.png\" width=75%></center>"
      ],
      "metadata": {
        "nteract": {
          "transient": {
            "deleting": false
          }
        }
      }
    }
  ],
  "metadata": {
    "kernel_info": {
      "name": "python3"
    },
    "language_info": {
      "name": "python",
      "version": "3.7.3",
      "mimetype": "text/x-python",
      "codemirror_mode": {
        "name": "ipython",
        "version": 3
      },
      "pygments_lexer": "ipython3",
      "nbconvert_exporter": "python",
      "file_extension": ".py"
    },
    "kernelspec": {
      "argv": [
        "python",
        "-m",
        "ipykernel_launcher",
        "-f",
        "{connection_file}"
      ],
      "display_name": "Python 3",
      "language": "python",
      "name": "python3"
    },
    "nteract": {
      "version": "0.25.0"
    }
  },
  "nbformat": 4,
  "nbformat_minor": 0
}