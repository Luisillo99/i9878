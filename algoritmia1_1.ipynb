{
  "cells": [
    {
      "cell_type": "markdown",
      "source": [
        "# <center>Conceptos</center>"
      ],
      "metadata": {
        "nteract": {
          "transient": {
            "deleting": false
          }
        }
      }
    },
    {
      "cell_type": "markdown",
      "source": [
        "## <center>¿Qué es un algoritmo?</center>\n",
        "<center><img src=\"https://raw.githubusercontent.com/sencionechauri/i9878/master/media/ejemplo_algoritmos.png\"/></center>"
      ],
      "metadata": {
        "nteract": {
          "transient": {
            "deleting": false
          }
        }
      }
    },
    {
      "cell_type": "markdown",
      "source": [
        "Un **algoritmo** es una secuencia de instrucciones no ambiguas para resolver un problema, es decir, para obtener una salida requerida para cualquier entrada válida en una cantidad finita de tiempo."
      ],
      "metadata": {
        "nteract": {
          "transient": {
            "deleting": false
          }
        }
      }
    },
    {
      "cell_type": "markdown",
      "source": [
        "## Consideraciones\n",
        "\n",
        "* La **no ambigüedad** requerida para cada paso no debe ser puesta en riesgo.\n",
        "* El **rango de entradas** para las que un algoritmo funciona debe ser especificado claramente (_p.e. ¿Acepta números negativos o sólo positivos?_).\n",
        "* El **mismo algoritmo** puede ser representado de **distintas formas** (_p.e. pseudocódigo, diagrama de flujo, etc._).\n",
        "* Pueden existir **varios algoritmos** para resolver el **mismo problema** (_p.e._ ordenar una lista de datos.).\n",
        "* Algoritmos para el mismo problema pueden basarse en **ideas muy distintas** y pueden resolver el problema con **velocidades diferentes** (_p.e_ métodos de búsqueda de datos.)."
      ],
      "metadata": {
        "nteract": {
          "transient": {
            "deleting": false
          }
        }
      }
    },
    {
      "cell_type": "markdown",
      "source": [
        "Tienes un algoritmo para lavarte los dientes:\n",
        "\n",
        "* Abrir el tubo de pasta dental.\n",
        "* Tomar tu cepillo de dientes.\n",
        "* Poner pasta dental sobre el cepillo hasta que sea suficiente.\n",
        "* Cerrar el tubo de pasta dental.\n",
        "* Colocar el cepillo en un cuadrante de tu boca.\n",
        "* Mover el cepillo arriba y abajo por N segundos.\n",
        "* Etc.\n",
        "\n",
        "<center><img src=\"https://raw.githubusercontent.com/sencionechauri/i9878/master/media/cepillo_pasta.jpg\"/ width=50%></center>"
      ],
      "metadata": {
        "nteract": {
          "transient": {
            "deleting": false
          }
        }
      }
    },
    {
      "cell_type": "markdown",
      "source": [
        "Un **algoritmo de computadora** es un conjunto de pasos para completar una tarea que es descrita de forma **suficientemente precisa** como para que una computadora pueda realizarla."
      ],
      "metadata": {
        "nteract": {
          "transient": {
            "deleting": false
          }
        }
      }
    },
    {
      "cell_type": "markdown",
      "source": [
        "Los algortimos de computadora resuelven problemas computacionales. Se esperan dos cosas de un algoritmo de computadora:\n",
        "* Dada una entrada a un algoritmo, **siempre** debería producir una **solución correcta** al problema.\n",
        "* Debería utilizar los recursos computacionales de forma **eficiente**."
      ],
      "metadata": {
        "nteract": {
          "transient": {
            "deleting": false
          }
        }
      }
    },
    {
      "cell_type": "markdown",
      "source": [
        "Se dice que un algoritmo es **correcto** si, para cada instancia de entrada, se detiene con la **salida correcta**. Se dice que un algoritmo correcto resuelve el problema computacional dado. Un algorimto incorrecto podrá no detenerse en algunas entradas o parará con una respuesta incorrecta.\n",
        "\n",
        "<center><img src=\"https://raw.githubusercontent.com/sencionechauri/i9878/master/media/gps.png\" width=50%/></center>\n"
      ],
      "metadata": {
        "nteract": {
          "transient": {
            "deleting": false
          }
        }
      }
    },
    {
      "cell_type": "code",
      "source": [
        "from IPython.display import IFrame\n",
        "\n",
        "IFrame(\"https://drive.google.com/file/d/1Iv-GCU2N9kN3567hVRK4NXkQQa1qL2iZ/preview\", width=320, height=240)"
      ],
      "outputs": [
        {
          "output_type": "execute_result",
          "execution_count": 1,
          "data": {
            "text/plain": "<IPython.lib.display.IFrame at 0x7efdd04165f8>",
            "text/html": "\n        <iframe\n            width=\"320\"\n            height=\"240\"\n            src=\"https://drive.google.com/file/d/1Iv-GCU2N9kN3567hVRK4NXkQQa1qL2iZ/preview\"\n            frameborder=\"0\"\n            allowfullscreen\n        ></iframe>\n        "
          },
          "metadata": {}
        }
      ],
      "execution_count": 1,
      "metadata": {
        "collapsed": true,
        "jupyter": {
          "source_hidden": true,
          "outputs_hidden": false
        },
        "nteract": {
          "transient": {
            "deleting": false
          }
        },
        "execution": {
          "iopub.status.busy": "2020-09-09T07:02:04.736Z",
          "iopub.execute_input": "2020-09-09T07:02:04.783Z",
          "iopub.status.idle": "2020-09-09T07:02:04.898Z",
          "shell.execute_reply": "2020-09-09T07:02:04.953Z"
        }
      }
    },
    {
      "cell_type": "markdown",
      "source": [
        "## Uso de Recursos\n",
        "\n",
        "El **tiempo** es la medida primaria de eficiencia que se utiliza para evaluar un algoritmo, una vez que se ha probado que el algoritmo da una solución correcta. Sin embargo no es la única medida. También puede interesar:\n",
        "* Cuánta memoria requiere el algoritmo.\n",
        "* Comunicación por la red.\n",
        "* Bits aleatorios.\n",
        "* Operaciones de disco."
      ],
      "metadata": {
        "nteract": {
          "transient": {
            "deleting": false
          }
        }
      }
    },
    {
      "cell_type": "markdown",
      "source": [
        "Se puede definir la **algoritmia** simplemente como el estudio de los algoritmos.\n",
        "\n",
        "<center><video src=\"https://raw.githubusercontent.com/sencionechauri/i9878/master/media/sorpresa.gif.mp4\" width=50% autoplay=true loop=true></video></center>"
      ],
      "metadata": {
        "nteract": {
          "transient": {
            "deleting": false
          }
        }
      }
    }
  ],
  "metadata": {
    "kernel_info": {
      "name": "python3"
    },
    "language_info": {
      "name": "python",
      "version": "3.7.3",
      "mimetype": "text/x-python",
      "codemirror_mode": {
        "name": "ipython",
        "version": 3
      },
      "pygments_lexer": "ipython3",
      "nbconvert_exporter": "python",
      "file_extension": ".py"
    },
    "kernelspec": {
      "argv": [
        "python",
        "-m",
        "ipykernel_launcher",
        "-f",
        "{connection_file}"
      ],
      "display_name": "Python 3",
      "language": "python",
      "name": "python3"
    },
    "nteract": {
      "version": "0.25.0"
    }
  },
  "nbformat": 4,
  "nbformat_minor": 0
}