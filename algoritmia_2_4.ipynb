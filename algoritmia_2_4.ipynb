{
  "cells": [
    {
      "cell_type": "markdown",
      "source": [
        "# <center>Complejidad Algoritmica (Parte 4)</center>"
      ],
      "metadata": {
        "nteract": {
          "transient": {
            "deleting": false
          }
        }
      }
    },
    {
      "cell_type": "markdown",
      "source": [
        "## <center>Análisis Matemático de Algoritmos No Recursivos</center>\n",
        "\n",
        "* Decide sobre un parámetro (o parametros) que indiquen el tamaño de la entrada.\n",
        "* Identifica la operación básica del algoritmo. (Como regla, se localiza en el ciclo más interno.)\n",
        "* Revisa si el número de veces que se realiza la operación básica depende sólo del tamaño de la entrada.\n",
        "* Establece una suma que exprese el número de veces que la operación básica del algoritmo es ejecutada.\n",
        "* Usando fórmulas estandar y reglas de manipulación de sumas ecuentra una fórmula para el conteo de las operaciones o establece su orden de crecimiento."
      ],
      "metadata": {
        "nteract": {
          "transient": {
            "deleting": false
          }
        }
      }
    },
    {
      "cell_type": "markdown",
      "source": [
        "## <center>Algunas Reglas Básicas para Manipulación de Sumas</center>\n",
        "\n",
        "$$\\sum_{i=l}^{u}ca_{i} = c\\sum_{i=l}^{u}a_{i}$$\n",
        "$$\\sum_{i=l}^{u}(a_{i} \\pm b_{i}) = \\sum_{i=l}^{u}a_{i} \\pm \\sum_{i=l}^{u}b_{i}$$\n",
        "\n",
        "## <center>Algunas Fórmulas de Sumas</center>\n",
        "\n",
        "$$\\sum_{i=l}^{u}1=u-l+1$$\n",
        "$$\\sum_{i=0}^{n}i = \\sum_{i=1}^{n}i = 1 + 2 + \\cdots + n = n\\frac{(n+1)}{2} \\approx \\frac{1}{2}n^2 \\in \\Theta(n^2)$$\n",
        "$$\\sum_{i=1}^{n}i^2 = 1^{2} + 2^{2} + \\cdots + n^{2} = \\frac{n(n+1)(2n+1)}{6} \\approx \\frac{1}{3}n^{3} \\in \\Theta(n^3)$$"
      ],
      "metadata": {
        "nteract": {
          "transient": {
            "deleting": false
          }
        }
      }
    },
    {
      "cell_type": "markdown",
      "source": [
        "### <center>Ejemplo 4</center>\n",
        "```\n",
        "contadorPares(A[0...n-1])\n",
        "//Determina la cantidad de números pares en un arreglo.\n",
        "//Entrada: Un arreglo A[0...n-1] de números reales.\n",
        "//Salida: La cantidad de números pares en A.\n",
        "\n",
        "contador <- 0\n",
        "desde i <- 0 hasta n - 1 \n",
        "    si A[i] mod 2 = 0\n",
        "        contador <- contador + 1\n",
        "regresar contador\n",
        "```"
      ],
      "metadata": {
        "nteract": {
          "transient": {
            "deleting": false
          }
        }
      }
    },
    {
      "cell_type": "markdown",
      "source": [
        "### <center>Solución 4</center>\n",
        "\n",
        "**Tamaño de entrada**: $n$\n",
        "\n",
        "**Operación Básica**: ```A[i] mod 2```\n",
        "\n",
        "$$c(n) = \\sum_{i=0}^{n-1}1$$\n",
        "\n",
        "Buscando dentro de las fórmulas de sumas encontramos que se parece a la suma de 1:\n",
        "\n",
        "$$\\sum_{i=l}^{u}1=u-l+1$$\n",
        "\n",
        "Reemplazando con los datos de nuestro algoritmo y resolviendo tenemos:\n",
        "\n",
        "$$u = n-1$$\n",
        "$$l = 0$$\n",
        "$$c(n) = u - l + 1 = n - 1 - 0 + 1 = n \\in \\Theta(n)$$"
      ],
      "metadata": {
        "nteract": {
          "transient": {
            "deleting": false
          }
        }
      }
    },
    {
      "cell_type": "markdown",
      "source": [
        "### <center>Ejemplo 5</center>\n",
        "```\n",
        "diferenciaParesImpares(A[0...n-1])\n",
        "//Determina la diferencia entre la suma de valores pares y la suma de valores impares de un arreglo.\n",
        "//Entrada: Un arreglo A[0...n-1] de números enteros.\n",
        "//Salida: valor entero que representa la diferencia entre la suma de valores pares y la suma de valores impares de un arreglo.\n",
        "\n",
        "sumPares <- 0\n",
        "sumImpares <- 0\n",
        "desde i <- 0 hasta n - 1 \n",
        "    si A[i] mod 2 = 0\n",
        "        sumaPares <- sumaPares + A[i]\n",
        "    sino\n",
        "        sumaImpares <- sumaImpares + A[i]\n",
        "regresar sumaPares - sumaImpares\n",
        "```"
      ],
      "metadata": {
        "nteract": {
          "transient": {
            "deleting": false
          }
        }
      }
    },
    {
      "cell_type": "markdown",
      "source": [
        "### <center>Solución 5</center>\n",
        "\n",
        "**Tamaño de entrada**: $n$\n",
        "\n",
        "**Operación Básica**: ```A[i] mod 2```\n",
        "\n",
        "$$c(n) = \\sum_{i=0}^{n-1}1$$\n",
        "\n",
        "Buscando dentro de las fórmulas de sumas encontramos que se parece a la suma de 1:\n",
        "\n",
        "$$\\sum_{i=l}^{u}1=u-l+1$$\n",
        "\n",
        "Reemplazando con los datos de nuestro algoritmo y resolviendo tenemos:\n",
        "\n",
        "$$u = n-1$$\n",
        "$$l = 0$$\n",
        "$$c(n) = u - l + 1 = n - 1 - 0 + 1 = n \\in \\Theta(n)$$"
      ],
      "metadata": {
        "nteract": {
          "transient": {
            "deleting": false
          }
        }
      }
    },
    {
      "cell_type": "markdown",
      "source": [
        "### <center>Ejemplo 6</center>\n",
        "```\n",
        "promedio(A[0...n-1])\n",
        "//Determina el promedio de los datos de un arreglo A[0...n-1].\n",
        "//Entrada: Un arreglo A[0...n-1] de números reales.\n",
        "//Salida: valor real que representa promedio de los datos de un arreglo A[0...n-1].\n",
        "\n",
        "prom <- A[0]\n",
        "desde i <- 1 hasta n - 1 \n",
        "    prom <- prom + A[i]\n",
        "regresar prom / n\n",
        "```"
      ],
      "metadata": {
        "nteract": {
          "transient": {
            "deleting": false
          }
        }
      }
    },
    {
      "cell_type": "markdown",
      "source": [
        "### <center>Solución 6</center>\n",
        "\n",
        "**Tamaño de entrada**: $n$\n",
        "\n",
        "**Operación Básica**: ```prom + A[i]```\n",
        "\n",
        "$$c(n) = \\sum_{i=1}^{n-1}1$$\n",
        "\n",
        "Buscando dentro de las fórmulas de sumas encontramos que se parece a la suma de 1:\n",
        "\n",
        "$$\\sum_{i=l}^{u}1=u-l+1$$\n",
        "\n",
        "Reemplazando con los datos de nuestro algoritmo y resolviendo tenemos:\n",
        "\n",
        "$$u = n-1$$\n",
        "$$l = 1$$\n",
        "$$c(n) = u - l + 1 = n - 1 - 1 + 1 = n - 1 \\in \\Theta(n)$$"
      ],
      "metadata": {
        "nteract": {
          "transient": {
            "deleting": false
          }
        }
      }
    },
    {
      "cell_type": "markdown",
      "source": [
        "A continuación se encuentra una celda con código que grafica el comportamiento del algoritmo ```promedio(A[0...n-1])```. \n",
        "\n",
        "Ejecuta la celda, inicialmente toma el tamaño de entrada como 10 simulando un arreglo de 10 datos, utiliza la barra de desplazamiento para aumentar o disminuir el tamaño de entrada y observa lo que sucede. Nota como siempre la línea que representa $c(n)$ sigue el mismo comportamiento que la línea que representa $\\Theta(n)$ eso es porque tienen el mismo comportamiento asintótico."
      ],
      "metadata": {
        "nteract": {
          "transient": {
            "deleting": false
          }
        }
      }
    },
    {
      "cell_type": "code",
      "source": [
        "import ipywidgets as widgets\n",
        "from ipywidgets import interact\n",
        "import numpy as np\n",
        "import matplotlib.pyplot as plt\n",
        "\n",
        "size = np.arange(1, 10, 1)\n",
        "\n",
        "def cn(n = 10):\n",
        "    size = np.arange(1, n, 1)\n",
        "    plt.xlabel('Tamaño de entrada')\n",
        "    plt.ylabel('pasos')\n",
        "    plt.title('Función promedio(A[0...n-1])')\n",
        "    plt.plot(size, size, label='θ(n)')\n",
        "    plt.plot(size, size-1, label='c(n)')\n",
        "    plt.legend()\n",
        "    print(f'Pasos necesitados: {n-1}')\n",
        "\n",
        "interact(cn, n = (2, 1000, 1))"
      ],
      "outputs": [],
      "execution_count": null,
      "metadata": {
        "collapsed": true,
        "jupyter": {
          "source_hidden": false,
          "outputs_hidden": false
        },
        "nteract": {
          "transient": {
            "deleting": false
          }
        },
        "execution": {
          "iopub.status.busy": "2020-09-29T20:53:11.062Z",
          "iopub.execute_input": "2020-09-29T20:53:11.084Z",
          "iopub.status.idle": "2020-09-29T20:53:11.762Z",
          "shell.execute_reply": "2020-09-29T20:53:11.814Z"
        },
        "tags": []
      }
    }
  ],
  "metadata": {
    "kernel_info": {
      "name": "python3"
    },
    "language_info": {
      "name": "python",
      "version": "3.7.3",
      "mimetype": "text/x-python",
      "codemirror_mode": {
        "name": "ipython",
        "version": 3
      },
      "pygments_lexer": "ipython3",
      "nbconvert_exporter": "python",
      "file_extension": ".py"
    },
    "kernelspec": {
      "argv": [
        "python",
        "-m",
        "ipykernel_launcher",
        "-f",
        "{connection_file}"
      ],
      "display_name": "Python 3",
      "language": "python",
      "name": "python3"
    },
    "nteract": {
      "version": "0.25.0"
    }
  },
  "nbformat": 4,
  "nbformat_minor": 0
}