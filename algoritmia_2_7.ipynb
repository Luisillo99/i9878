{
  "cells": [
    {
      "cell_type": "markdown",
      "source": [
        "# <center>Complejidad Algoritmica (Parte 7)</center>"
      ],
      "metadata": {
        "nteract": {
          "transient": {
            "deleting": false
          }
        }
      }
    },
    {
      "cell_type": "markdown",
      "source": [
        "## <center>Análisis Matemático de Algoritmos No Recursivos</center>\n",
        "\n",
        "* Decide sobre un parámetro (o parametros) que indiquen el tamaño de la entrada.\n",
        "* Identifica la operación básica del algoritmo. (Como regla, se localiza en el ciclo más interno.)\n",
        "* Revisa si el número de veces que se realiza la operación básica depende sólo del tamaño de la entrada.\n",
        "* Establece una suma que exprese el número de veces que la operación básica del algoritmo es ejecutada.\n",
        "* Usando fórmulas estandar y reglas de manipulación de sumas ecuentra una fórmula para el conteo de las operaciones o establece su orden de crecimiento."
      ],
      "metadata": {
        "nteract": {
          "transient": {
            "deleting": false
          }
        }
      }
    },
    {
      "cell_type": "markdown",
      "source": [
        "## <center>Algunas Reglas Básicas para Manipulación de Sumas</center>\n",
        "\n",
        "$$\\sum_{i=l}^{u}ca_{i} = c\\sum_{i=l}^{u}a_{i}$$\n",
        "$$\\sum_{i=l}^{u}(a_{i} \\pm b_{i}) = \\sum_{i=l}^{u}a_{i} \\pm \\sum_{i=l}^{u}b_{i}$$\n",
        "\n",
        "## <center>Algunas Fórmulas de Sumas</center>\n",
        "\n",
        "$$\\sum_{i=l}^{u}1=u-l+1$$\n",
        "$$\\sum_{i=0}^{n}i = \\sum_{i=1}^{n}i = 1 + 2 + \\cdots + n = n\\frac{(n+1)}{2} \\approx \\frac{1}{2}n^2 \\in \\Theta(n^2)$$\n",
        "$$\\sum_{i=1}^{n}i^2 = 1^{2} + 2^{2} + \\cdots + n^{2} = \\frac{n(n+1)(2n+1)}{6} \\approx \\frac{1}{3}n^{3} \\in \\Theta(n^3)$$"
      ],
      "metadata": {
        "nteract": {
          "transient": {
            "deleting": false
          }
        }
      }
    },
    {
      "cell_type": "markdown",
      "source": [
        "### <center>Ejemplo 11</center>\n",
        "```\n",
        "desde i <- 0 hasta n \n",
        "    desde j <- 0 hasta i*i\n",
        "        mostrar j\n",
        "```"
      ],
      "metadata": {
        "nteract": {
          "transient": {
            "deleting": false
          }
        }
      }
    },
    {
      "cell_type": "markdown",
      "source": [
        "### <center>Solución 11</center>\n",
        "\n",
        "**Tamaño de entrada**: $n$\n",
        "\n",
        "**Operación Básica**: ```mostrar j```\n",
        "\n",
        "\n",
        "$$c(n) = \\sum_{i=0}^{n} \\sum_{j=0}^{i * i} 1$$\n",
        "\n",
        "Para resolver la suma descrita anteriormente la solución debe comenzar desde la suma más interna hacia la externa, es decir, de derecha a izquierda. Revisando las fórmulas de sumas nos damos cuenta que la suma más interna es la suma de 1 por lo tanto la resolvemos de esa forma. Reemplazando con los datos de nuestro algoritmo y resolviendo tenemos:\n",
        "\n",
        "$$c(n) = \\sum_{i=0}^{n} i^{2} + 1$$\n",
        "\n",
        "Ahora tenemos una suma de dos términos que podemos separar para resolver independientemente y después unir sus resultados:\n",
        "\n",
        "$$c(n) = \\sum_{i=0}^{n} i^{2} + \\sum_{i=0}^{n} 1$$\n",
        "\n",
        "En esta ocasión tenemos la suma de $i^{2}$ para la cual deberemos usar el patrón correspondiente de nuestras fórmulas de sumas. Continuando con el desarrollo de ambas sumas de manera simultánea y resolviendo tenemos:\n",
        "\n",
        "$$c(n) = \\frac{n(n+1)(2n+1)}{6} + n + 1$$\n",
        "$$c(n) = \\frac{n(n+1)(2n+1) + 6n + 6}{6}$$\n",
        "$$c(n) = \\frac{n(2n^{2}+n+2n+1) + 6n + 6}{6}$$\n",
        "$$c(n) = \\frac{2n^{3} + 3n^{2} + 7n + 6}{6} \\in \\Theta(n^{3})$$"
      ],
      "metadata": {
        "nteract": {
          "transient": {
            "deleting": false
          }
        }
      }
    },
    {
      "cell_type": "markdown",
      "source": [
        "A continuación revisaremos un ejemplo de análisis para el caso medio de un algoritmo, es decir, revisaremos qué sucede con un algoritmo en el cual la entrada afecta de forma directa la cantidad de veces que suceda la operación básica. Para ello necesitaremos de probabilidad."
      ],
      "metadata": {
        "nteract": {
          "transient": {
            "deleting": false
          }
        }
      }
    },
    {
      "cell_type": "markdown",
      "source": [
        "### <center>Ejemplo 12</center>\n",
        "```\n",
        "busquedaSecuencial(A[0...n-1], k)\n",
        "//Busca por un valor dado en un arreglo determinado por búsqueda secuencial.\n",
        "//Entrada: Un arreglo A[0...n-1] y una llave k.\n",
        "//Salida: El índice del primer elemento en A[0...n-1] que corresponde con k o -1 si no lo encuentra.\n",
        "\n",
        "i <- 0\n",
        "mientras i < n y A[i] <> k\n",
        "    i <- i + 1\n",
        "si i < n\n",
        "    regresar i\n",
        "sino\n",
        "    regresar -1\n",
        "```"
      ],
      "metadata": {
        "nteract": {
          "transient": {
            "deleting": false
          }
        }
      }
    },
    {
      "cell_type": "markdown",
      "source": [
        "### <center>Solución 12</center>\n",
        "\n",
        "**Tamaño de entrada**: $n$\n",
        "\n",
        "**Operación Básica**: ```A[i] <> k```\n",
        "\n",
        "Para el algoritmo de búsqueda secuencial el análisis de peor caso y mejor caso resulta muy directo. \n",
        "\n",
        "Si estamos buscando un elemento en un arreglo, el mejor caso posible es que el elemento buscado se encuentre en la primer posición con lo cual sólamente se haría una vez la operación básica, por lo tanto:\n",
        "\n",
        "$$c_{mejor}(n) = 1$$\n",
        "\n",
        "En el peor de los casos el elemento buscado no existirá dentro del arreglo de entrada, por lo tanto se realizará todo el recorrido de dicho arreglo, entonces en el peor caso tendremos:\n",
        "\n",
        "$$c_{peor}(n) = n$$\n",
        "\n",
        "Ahora para el caso medio necesitamos un análisis de probabilidad para el cual asumiremos lo siguiente:\n",
        "\n",
        "* Las probabilidades de una búsqueda exitosa son $p$ ($0 \\leq p \\leq 1$).\n",
        "* La probabilidad de encontrar la llave $k$ (el elemento buscado) en la posición $i$ es igual para todo $i$.\n",
        "\n",
        "Considerando lo anterior tenemos:\n",
        "\n",
        "$$c_{medio}(n) = [1\\frac{p}{n} + 2\\frac{p}{n} + \\cdots + i\\frac{p}{n} + \\cdots + n\\cdot\\frac{p}{n}] + n\\cdot(1-p)$$\n",
        "\n",
        "factorizando tenemos:\n",
        "\n",
        "$$c_{medio}(n) = \\frac{p}{n}[1 + 2 + \\cdots + i + \\cdots + n] + n\\cdot(1-p)$$\n",
        "\n",
        "Analizando los valores que se están cumulando podemos observar que es la suma de $i$ desde $1$ hasta $n$, por lo tanto ahora podemos reescribir nuestra expresión como:\n",
        "\n",
        "$$c_{medio}(n) = \\frac{p}{n} \\cdot \\frac{n(n+1)}{2} + n\\cdot(1-p)$$\n",
        "$$c_{medio}(n) = \\frac{p\\cdot(n+1)}{2} + n(1-p) \\in \\Theta(n)$$\n",
        "\n",
        "\n",
        "Hagamos sustituciones en el resultado que recién encontramos. Si consideramos una búsqueda fallida, es decir, que el elemento buscado no está en el arreglo entonces la probailidad de encontrarlo es $p=0$, sustituyendo en nuestro resultado tenemos:\n",
        "\n",
        "$$c_{medio}(n) = \\frac{0\\cdot(n+1)}{2} + n(1-0) = n$$\n",
        "\n",
        "Lo cual es consistente con nuestro análisis para el peor caso:  si el elemento buscado no está en la colección entonces realizaremos n comparaciones.\n",
        "\n",
        "Ahora consideremos una búsqueda exitosa, es decir, el elemento buscado está en la colección, por lo tanto tendremos $p=1$. Reemplazando en el resultado de nuestro análisis tenemos:\n",
        "\n",
        "$$c_{medio}(n) = \\frac{1\\cdot(n+1)}{2} + n(1-1) = \\frac{n+1}{2}$$\n",
        "\n",
        "Es decir, el algoritmo de búsqueda secuencial toma $\\frac{n+1}{2}$ pasos en promedio para encontrar un valor en un arreglo en caso de existir."
      ],
      "metadata": {
        "nteract": {
          "transient": {
            "deleting": false
          }
        }
      }
    }
  ],
  "metadata": {
    "kernel_info": {
      "name": "python3"
    },
    "language_info": {
      "name": "python",
      "version": "3.7.3",
      "mimetype": "text/x-python",
      "codemirror_mode": {
        "name": "ipython",
        "version": 3
      },
      "pygments_lexer": "ipython3",
      "nbconvert_exporter": "python",
      "file_extension": ".py"
    },
    "kernelspec": {
      "argv": [
        "python",
        "-m",
        "ipykernel_launcher",
        "-f",
        "{connection_file}"
      ],
      "display_name": "Python 3",
      "language": "python",
      "name": "python3"
    },
    "nteract": {
      "version": "0.25.1"
    }
  },
  "nbformat": 4,
  "nbformat_minor": 0
}